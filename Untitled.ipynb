{
 "cells": [
  {
   "cell_type": "code",
   "execution_count": 6,
   "metadata": {},
   "outputs": [],
   "source": [
    "from nltk.corpus import gutenberg\n",
    "from string import punctuation\n",
    "import matplotlib.pyplot as plt\n",
    "import re"
   ]
  },
  {
   "cell_type": "code",
   "execution_count": 14,
   "metadata": {},
   "outputs": [
    {
     "data": {
      "text/plain": [
       "['[The Tragedie of Hamlet by William Shakespeare 1599]\\n',\n",
       " '\\n',\n",
       " '\\n',\n",
       " 'Actus Primus. Scoena Prima.\\n',\n",
       " '\\n',\n",
       " 'Enter Barnardo and Francisco two Centinels.\\n',\n",
       " '\\n',\n",
       " \"  Barnardo. Who's there?\\n\",\n",
       " '  Fran. Nay answer me: Stand & vnfold\\n',\n",
       " 'your selfe\\n',\n",
       " '\\n',\n",
       " '   Bar. Long liue the King\\n',\n",
       " '\\n',\n",
       " '   Fran. Barnardo?\\n',\n",
       " '  Bar. He\\n',\n",
       " '\\n',\n",
       " '   Fran. You come most carefully vpon your houre\\n',\n",
       " '\\n',\n",
       " \"   Bar. 'Tis now strook twelue, get thee to bed Francisco\\n\",\n",
       " '\\n',\n",
       " \"   Fran. For this releefe much thankes: 'Tis bitter cold,\\n\",\n",
       " 'And I am sicke at heart\\n',\n",
       " '\\n',\n",
       " '   Barn. Haue you had quiet Guard?\\n',\n",
       " '  Fran. Not a Mouse stirring\\n']"
      ]
     },
     "execution_count": 14,
     "metadata": {},
     "output_type": "execute_result"
    }
   ],
   "source": [
    "# Hamlet Play from the Gutenberg corpus\n",
    "\n",
    "hamlet = gutenberg.open('shakespeare-hamlet.txt')\n",
    "hamlet = hamlet.readlines()\n",
    "\n",
    "hamlet[:25]"
   ]
  },
  {
   "cell_type": "code",
   "execution_count": 16,
   "metadata": {},
   "outputs": [
    {
     "data": {
      "text/plain": [
       "3966"
      ]
     },
     "execution_count": 16,
     "metadata": {},
     "output_type": "execute_result"
    }
   ],
   "source": [
    "#First remove \\n\n",
    "hamlet = list(filter(None, [item.strip('\\n') for item in hamlet]))\n",
    "\n",
    "# Length in characters\n",
    "len(hamlet)"
   ]
  },
  {
   "cell_type": "code",
   "execution_count": null,
   "metadata": {},
   "outputs": [],
   "source": []
  }
 ],
 "metadata": {
  "kernelspec": {
   "display_name": "Python 3",
   "language": "python",
   "name": "python3"
  },
  "language_info": {
   "codemirror_mode": {
    "name": "ipython",
    "version": 3
   },
   "file_extension": ".py",
   "mimetype": "text/x-python",
   "name": "python",
   "nbconvert_exporter": "python",
   "pygments_lexer": "ipython3",
   "version": "3.7.4"
  }
 },
 "nbformat": 4,
 "nbformat_minor": 2
}
